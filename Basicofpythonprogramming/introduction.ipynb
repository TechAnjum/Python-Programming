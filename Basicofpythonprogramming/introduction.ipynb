{
 "cells": [
  {
   "cell_type": "markdown",
   "metadata": {},
   "source": [
    "# Introduction to Python Programming"
   ]
  },
  {
   "cell_type": "code",
   "execution_count": null,
   "metadata": {},
   "outputs": [
    {
     "name": "stdout",
     "output_type": "stream",
     "text": [
      "2000\n",
      "100\n"
     ]
    }
   ],
   "source": [
    "# variable assignment \n",
    "\n",
    "Number = 100 \n",
    "Number1 = 100.20\n",
    "str ='Hello World'\n",
    "\n",
    "num = '1234'\n",
    "\n",
    "num1, num2 , num3 = 10,20,30\n",
    "\n",
    "NUMBER = 2000\n",
    "\n",
    "NUMBER \n",
    "\n",
    "Number \n",
    "\n",
    "print(NUMBER)\n",
    "print(Number)"
   ]
  },
  {
   "cell_type": "code",
   "execution_count": 2,
   "metadata": {},
   "outputs": [
    {
     "name": "stdout",
     "output_type": "stream",
     "text": [
      "<class 'int'>\n",
      "<class 'float'>\n",
      "<class 'str'>\n",
      "the variable name number is 100\n",
      "The addition of Number1 and Number2 is 3000\n"
     ]
    }
   ],
   "source": [
    "# checking datatype\n",
    "print(type(Number))\n",
    "print(type(Number1))\n",
    "print(type(str))\n",
    "\n",
    "num1,num2,num3,_=100,200,300,400\n",
    "num1,num2,num3 = 100,200,_\n",
    "\n",
    "print('the variable name number is',Number)\n",
    "\n",
    "number1 = 1000\n",
    "number2 = 2000\n",
    "number3 = number1+number2\n",
    "\n",
    "print('The addition of Number1 and Number2 is',number3)"
   ]
  },
  {
   "cell_type": "code",
   "execution_count": 3,
   "metadata": {},
   "outputs": [
    {
     "name": "stdout",
     "output_type": "stream",
     "text": [
      "The substraction of Number1 and Number2 is -1000\n"
     ]
    }
   ],
   "source": [
    "number1 = 1000\n",
    "number2 = 2000\n",
    "number3 = number1-number2\n",
    "\n",
    "print('The substraction of Number1 and Number2 is',number3)\n"
   ]
  },
  {
   "cell_type": "code",
   "execution_count": 4,
   "metadata": {},
   "outputs": [
    {
     "name": "stdout",
     "output_type": "stream",
     "text": [
      "The multiplication of Number1 and Number2 is 2000000\n"
     ]
    }
   ],
   "source": [
    "number1 = 1000\n",
    "number2 = 2000\n",
    "number3 = number1 * number2\n",
    "\n",
    "print('The multiplication of Number1 and Number2 is',number3)"
   ]
  },
  {
   "cell_type": "code",
   "execution_count": 6,
   "metadata": {},
   "outputs": [
    {
     "name": "stdout",
     "output_type": "stream",
     "text": [
      "The Division of Number1 and Number2 is 2.0\n"
     ]
    }
   ],
   "source": [
    "number1 = 1000\n",
    "number2 = 2000\n",
    "number3 = number2 / number1\n",
    "\n",
    "print('The Division of Number1 and Number2 is',number3)"
   ]
  },
  {
   "cell_type": "code",
   "execution_count": 8,
   "metadata": {},
   "outputs": [
    {
     "name": "stdout",
     "output_type": "stream",
     "text": [
      "The addition of Number1 and Number2 is 2\n"
     ]
    }
   ],
   "source": [
    "# Floor Division\n",
    "number1 = 1000\n",
    "number2 = 2000\n",
    "number3 = number2 // number1\n",
    "\n",
    "print('The addition of Number1 and Number2 is',number3)"
   ]
  },
  {
   "cell_type": "code",
   "execution_count": 10,
   "metadata": {},
   "outputs": [
    {
     "name": "stdout",
     "output_type": "stream",
     "text": [
      "num and num1: 12341234\n"
     ]
    }
   ],
   "source": [
    "# concatenate\n",
    "num = 2\n",
    "num1 = '1234'\n",
    "\n",
    "print('num and num1:',(num * num1))"
   ]
  },
  {
   "cell_type": "code",
   "execution_count": null,
   "metadata": {},
   "outputs": [],
   "source": []
  }
 ],
 "metadata": {
  "kernelspec": {
   "display_name": "base",
   "language": "python",
   "name": "python3"
  },
  "language_info": {
   "codemirror_mode": {
    "name": "ipython",
    "version": 3
   },
   "file_extension": ".py",
   "mimetype": "text/x-python",
   "name": "python",
   "nbconvert_exporter": "python",
   "pygments_lexer": "ipython3",
   "version": "3.12.7"
  }
 },
 "nbformat": 4,
 "nbformat_minor": 2
}
